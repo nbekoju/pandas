{
 "cells": [
  {
   "cell_type": "markdown",
   "id": "00c12bdf",
   "metadata": {},
   "source": [
    "## Numpy Assigment"
   ]
  },
  {
   "cell_type": "markdown",
   "id": "adfbcbb8",
   "metadata": {},
   "source": [
    "**Into how many combination of 3D shape, a numpy array of size 96 can be reshaped?**"
   ]
  },
  {
   "cell_type": "markdown",
   "id": "67dded9d",
   "metadata": {},
   "source": [
    "**Ans:** "
   ]
  },
  {
   "cell_type": "code",
   "execution_count": 2,
   "id": "63cb9438",
   "metadata": {},
   "outputs": [
    {
     "data": {
      "text/html": [
       "<div>\n",
       "<style scoped>\n",
       "    .dataframe tbody tr th:only-of-type {\n",
       "        vertical-align: middle;\n",
       "    }\n",
       "\n",
       "    .dataframe tbody tr th {\n",
       "        vertical-align: top;\n",
       "    }\n",
       "\n",
       "    .dataframe thead th {\n",
       "        text-align: right;\n",
       "    }\n",
       "</style>\n",
       "<table border=\"1\" class=\"dataframe\">\n",
       "  <thead>\n",
       "    <tr style=\"text-align: right;\">\n",
       "      <th></th>\n",
       "      <th>age</th>\n",
       "      <th>sex</th>\n",
       "      <th>cp</th>\n",
       "      <th>trestbps</th>\n",
       "      <th>chol</th>\n",
       "      <th>fbs</th>\n",
       "      <th>restecg</th>\n",
       "      <th>thalach</th>\n",
       "      <th>exang</th>\n",
       "      <th>oldpeak</th>\n",
       "      <th>slope</th>\n",
       "      <th>ca</th>\n",
       "      <th>thal</th>\n",
       "      <th>target</th>\n",
       "    </tr>\n",
       "  </thead>\n",
       "  <tbody>\n",
       "    <tr>\n",
       "      <th>0</th>\n",
       "      <td>63</td>\n",
       "      <td>1</td>\n",
       "      <td>3</td>\n",
       "      <td>145</td>\n",
       "      <td>233</td>\n",
       "      <td>1</td>\n",
       "      <td>0</td>\n",
       "      <td>150</td>\n",
       "      <td>0</td>\n",
       "      <td>2.3</td>\n",
       "      <td>0</td>\n",
       "      <td>0</td>\n",
       "      <td>1</td>\n",
       "      <td>1</td>\n",
       "    </tr>\n",
       "    <tr>\n",
       "      <th>1</th>\n",
       "      <td>37</td>\n",
       "      <td>1</td>\n",
       "      <td>2</td>\n",
       "      <td>130</td>\n",
       "      <td>250</td>\n",
       "      <td>0</td>\n",
       "      <td>1</td>\n",
       "      <td>187</td>\n",
       "      <td>0</td>\n",
       "      <td>3.5</td>\n",
       "      <td>0</td>\n",
       "      <td>0</td>\n",
       "      <td>2</td>\n",
       "      <td>1</td>\n",
       "    </tr>\n",
       "    <tr>\n",
       "      <th>2</th>\n",
       "      <td>41</td>\n",
       "      <td>0</td>\n",
       "      <td>1</td>\n",
       "      <td>130</td>\n",
       "      <td>204</td>\n",
       "      <td>0</td>\n",
       "      <td>0</td>\n",
       "      <td>172</td>\n",
       "      <td>0</td>\n",
       "      <td>1.4</td>\n",
       "      <td>2</td>\n",
       "      <td>0</td>\n",
       "      <td>2</td>\n",
       "      <td>1</td>\n",
       "    </tr>\n",
       "    <tr>\n",
       "      <th>3</th>\n",
       "      <td>56</td>\n",
       "      <td>1</td>\n",
       "      <td>1</td>\n",
       "      <td>120</td>\n",
       "      <td>236</td>\n",
       "      <td>0</td>\n",
       "      <td>1</td>\n",
       "      <td>178</td>\n",
       "      <td>0</td>\n",
       "      <td>0.8</td>\n",
       "      <td>2</td>\n",
       "      <td>0</td>\n",
       "      <td>2</td>\n",
       "      <td>1</td>\n",
       "    </tr>\n",
       "    <tr>\n",
       "      <th>4</th>\n",
       "      <td>57</td>\n",
       "      <td>0</td>\n",
       "      <td>0</td>\n",
       "      <td>120</td>\n",
       "      <td>354</td>\n",
       "      <td>0</td>\n",
       "      <td>1</td>\n",
       "      <td>163</td>\n",
       "      <td>1</td>\n",
       "      <td>0.6</td>\n",
       "      <td>2</td>\n",
       "      <td>0</td>\n",
       "      <td>2</td>\n",
       "      <td>1</td>\n",
       "    </tr>\n",
       "  </tbody>\n",
       "</table>\n",
       "</div>"
      ],
      "text/plain": [
       "   age  sex  cp  trestbps  chol  fbs  restecg  thalach  exang  oldpeak  slope  \\\n",
       "0   63    1   3       145   233    1        0      150      0      2.3      0   \n",
       "1   37    1   2       130   250    0        1      187      0      3.5      0   \n",
       "2   41    0   1       130   204    0        0      172      0      1.4      2   \n",
       "3   56    1   1       120   236    0        1      178      0      0.8      2   \n",
       "4   57    0   0       120   354    0        1      163      1      0.6      2   \n",
       "\n",
       "   ca  thal  target  \n",
       "0   0     1       1  \n",
       "1   0     2       1  \n",
       "2   0     2       1  \n",
       "3   0     2       1  \n",
       "4   0     2       1  "
      ]
     },
     "execution_count": 2,
     "metadata": {},
     "output_type": "execute_result"
    }
   ],
   "source": [
    "# Only for viewing csv data in better form.\n",
    "import pandas as pd\n",
    "df = pd.read_csv('heart-disease.csv')\n",
    "df.head()"
   ]
  },
  {
   "cell_type": "code",
   "execution_count": 3,
   "id": "c4583195",
   "metadata": {},
   "outputs": [],
   "source": [
    "import numpy as np"
   ]
  },
  {
   "cell_type": "markdown",
   "id": "affb887a",
   "metadata": {},
   "source": [
    "#### 1. Load CSV File:\n",
    "Load the CSV file using csv reader into a numpy array. Also convert each value to numerical."
   ]
  },
  {
   "cell_type": "code",
   "execution_count": 4,
   "id": "8be1c499",
   "metadata": {},
   "outputs": [],
   "source": [
    "from csv import reader\n",
    "\n",
    "with open('heart-disease.csv', 'r', encoding='utf-8') as file:\n",
    "    raw_data = np.array(list(reader(file)))"
   ]
  },
  {
   "cell_type": "code",
   "execution_count": 6,
   "id": "3d67c591",
   "metadata": {},
   "outputs": [],
   "source": [
    "raw_data = raw_data[1:]"
   ]
  },
  {
   "cell_type": "code",
   "execution_count": 8,
   "id": "40328939",
   "metadata": {},
   "outputs": [],
   "source": [
    "final_data = raw_data.astype('float32')"
   ]
  },
  {
   "cell_type": "code",
   "execution_count": 10,
   "id": "daa6e07e",
   "metadata": {},
   "outputs": [
    {
     "data": {
      "text/plain": [
       "(array([[63.,  1.,  3., ...,  0.,  1.,  1.],\n",
       "        [37.,  1.,  2., ...,  0.,  2.,  1.],\n",
       "        [41.,  0.,  1., ...,  0.,  2.,  1.],\n",
       "        ...,\n",
       "        [68.,  1.,  0., ...,  2.,  3.,  0.],\n",
       "        [57.,  1.,  0., ...,  1.,  3.,  0.],\n",
       "        [57.,  0.,  1., ...,  1.,  2.,  0.]], dtype=float32),\n",
       " (303, 14))"
      ]
     },
     "execution_count": 10,
     "metadata": {},
     "output_type": "execute_result"
    }
   ],
   "source": [
    "final_data, final_data.shape"
   ]
  },
  {
   "cell_type": "markdown",
   "id": "8cbf62a6",
   "metadata": {},
   "source": [
    "#### 2. Extract Specific Columns:\n",
    "Extract columns `age`, `chol`, and `thalach` from the CSV file and store them in a numpy array."
   ]
  },
  {
   "cell_type": "code",
   "execution_count": 11,
   "id": "6781bb08",
   "metadata": {},
   "outputs": [],
   "source": [
    "age_chol_thalach = final_data[:, [0, 4, 7]]"
   ]
  },
  {
   "cell_type": "markdown",
   "id": "ab39249f",
   "metadata": {},
   "source": [
    "#### 3. Filtering Data:\n",
    "Filter the rows where `sex` is `male` and `age` is greater than 50."
   ]
  },
  {
   "cell_type": "code",
   "execution_count": 14,
   "id": "a46c785a",
   "metadata": {},
   "outputs": [
    {
     "data": {
      "text/plain": [
       "array([[63.,  1.,  3., ...,  0.,  1.,  1.],\n",
       "       [56.,  1.,  1., ...,  0.,  2.,  1.],\n",
       "       [57.,  1.,  0., ...,  0.,  1.,  1.],\n",
       "       ...,\n",
       "       [59.,  1.,  0., ...,  2.,  1.,  0.],\n",
       "       [68.,  1.,  0., ...,  2.,  3.,  0.],\n",
       "       [57.,  1.,  0., ...,  1.,  3.,  0.]], dtype=float32)"
      ]
     },
     "execution_count": 14,
     "metadata": {},
     "output_type": "execute_result"
    }
   ],
   "source": [
    "male_age_gt_50 = final_data[(final_data[:, 1] == 1) & (final_data[:, 0] > 50)]\n",
    "male_age_gt_50"
   ]
  },
  {
   "cell_type": "markdown",
   "id": "c318d202",
   "metadata": {},
   "source": [
    "#### 4. Compute Statistics:\n",
    "Compute the mean and standard deviation of the `trestbps` column."
   ]
  },
  {
   "cell_type": "code",
   "execution_count": 15,
   "id": "379cf1fc",
   "metadata": {},
   "outputs": [
    {
     "data": {
      "text/plain": [
       "(131.62376, 17.509178)"
      ]
     },
     "execution_count": 15,
     "metadata": {},
     "output_type": "execute_result"
    }
   ],
   "source": [
    "mean = np.mean(final_data[:, 3])\n",
    "std_deviation = np.std(final_data[:, 3])\n",
    "mean, std_deviation"
   ]
  },
  {
   "cell_type": "markdown",
   "id": "ba0f9091",
   "metadata": {},
   "source": [
    "#### 5. Sorting Data:\n",
    "Sort the data based on the `thalach` column in descending order."
   ]
  },
  {
   "cell_type": "code",
   "execution_count": 16,
   "id": "c8746da3",
   "metadata": {},
   "outputs": [
    {
     "data": {
      "text/plain": [
       "array([[29.,  1.,  1., ...,  0.,  2.,  1.],\n",
       "       [54.,  1.,  1., ...,  1.,  3.,  0.],\n",
       "       [42.,  1.,  2., ...,  0.,  3.,  1.],\n",
       "       ...,\n",
       "       [59.,  1.,  0., ...,  2.,  1.,  0.],\n",
       "       [57.,  1.,  0., ...,  1.,  3.,  0.],\n",
       "       [67.,  1.,  0., ...,  0.,  2.,  0.]], dtype=float32)"
      ]
     },
     "execution_count": 16,
     "metadata": {},
     "output_type": "execute_result"
    }
   ],
   "source": [
    "sorted_indices = np.argsort(final_data[:, 7])[::-1]\n",
    "sorted_data_on_thalach = final_data[sorted_indices]\n",
    "sorted_data_on_thalach"
   ]
  },
  {
   "cell_type": "markdown",
   "id": "ae4e2426",
   "metadata": {},
   "source": [
    "#### 6. Writing to CSV:\n",
    "Write the filtered data from **Question 3** to a new CSV file named `\"filtered_data.csv\"`."
   ]
  },
  {
   "cell_type": "code",
   "execution_count": 17,
   "id": "a4da1fb0",
   "metadata": {},
   "outputs": [],
   "source": [
    "from csv import writer\n",
    "\n",
    "with open(\"filtered_data.csv\", \"w\", newline=\"\") as file:\n",
    "    csv_writer = writer(file)\n",
    "    csv_writer.writerows(male_age_gt_50)"
   ]
  },
  {
   "cell_type": "markdown",
   "id": "91d389fb",
   "metadata": {},
   "source": [
    "#### 7. Conditional Counting:\n",
    "Count the number of male and female from `sex` column."
   ]
  },
  {
   "cell_type": "code",
   "execution_count": null,
   "id": "21a185ef",
   "metadata": {},
   "outputs": [],
   "source": []
  },
  {
   "cell_type": "markdown",
   "id": "e3d0b138",
   "metadata": {},
   "source": [
    "#### 8. Conditional Filtering:\n",
    "Filter the rows where `thal` (thalassemia) is 2 or 3."
   ]
  },
  {
   "cell_type": "code",
   "execution_count": null,
   "id": "0674b3fd",
   "metadata": {},
   "outputs": [],
   "source": []
  },
  {
   "cell_type": "markdown",
   "id": "2f69c353",
   "metadata": {},
   "source": [
    "### Broadcasting:\n",
    "Given two arrays A and B of shapes (3, 2) and (1, 2) respectively, perform element-wise addition using broadcasting."
   ]
  },
  {
   "cell_type": "code",
   "execution_count": null,
   "id": "47d925ce",
   "metadata": {},
   "outputs": [],
   "source": []
  },
  {
   "cell_type": "markdown",
   "id": "a1ca5e04",
   "metadata": {},
   "source": [
    "### Dot Product:\n",
    "Compute the dot product of two matrices A (shape: 3x4) and B (shape: 4x2)."
   ]
  },
  {
   "cell_type": "code",
   "execution_count": null,
   "id": "2ba25c00",
   "metadata": {},
   "outputs": [],
   "source": []
  },
  {
   "cell_type": "markdown",
   "id": "c6d1f311",
   "metadata": {},
   "source": [
    "### Sorting:\n",
    "Sort the elements of a 1D array arr in descending order."
   ]
  },
  {
   "cell_type": "code",
   "execution_count": null,
   "id": "44040875",
   "metadata": {},
   "outputs": [],
   "source": []
  },
  {
   "cell_type": "markdown",
   "id": "dd498f53",
   "metadata": {},
   "source": [
    "### Counting:\n",
    "Count the number of occurrences of a specific value in a 2D array 'arr'."
   ]
  },
  {
   "cell_type": "code",
   "execution_count": null,
   "id": "79859340",
   "metadata": {},
   "outputs": [],
   "source": []
  },
  {
   "cell_type": "markdown",
   "id": "1f8447c8",
   "metadata": {},
   "source": [
    "### Reshaping and Resizing:\n",
    "Reshape a 1D array 'arr' of size 20 into a 2D array of shape (4, 5). Also resize it. Store them into variable and change one value in each case. Check original array and see the difference."
   ]
  },
  {
   "cell_type": "code",
   "execution_count": null,
   "id": "eb396a32",
   "metadata": {},
   "outputs": [],
   "source": []
  },
  {
   "cell_type": "markdown",
   "id": "6d7b9a6a",
   "metadata": {},
   "source": [
    "### Flatten and Ravel:\n",
    "Flatten a 2D array 'arr; into a 1D array. Also Ravel it. Also store them into variable and change one value in each case. Check original array and see the difference."
   ]
  },
  {
   "cell_type": "code",
   "execution_count": null,
   "id": "dfcead73",
   "metadata": {},
   "outputs": [],
   "source": []
  },
  {
   "cell_type": "markdown",
   "id": "3870ef5f",
   "metadata": {},
   "source": [
    "### View and Copy:\n",
    "Create a view of a 2D array 'arr' and modify one of its elements. Check if the original array is modified."
   ]
  },
  {
   "cell_type": "code",
   "execution_count": null,
   "id": "aa1b9f63",
   "metadata": {},
   "outputs": [],
   "source": []
  },
  {
   "cell_type": "markdown",
   "id": "3d2cd9b6",
   "metadata": {},
   "source": [
    "### Indexing and Slicing:\n",
    "Extract the first 3 rows and last 2 columns of a 2D array 'arr'."
   ]
  },
  {
   "cell_type": "code",
   "execution_count": null,
   "id": "850c496c",
   "metadata": {},
   "outputs": [],
   "source": []
  },
  {
   "cell_type": "markdown",
   "id": "ae0b4366",
   "metadata": {},
   "source": [
    "### Element-wise Operations:\n",
    "Compute the square root of each element in a 2D array 'arr'."
   ]
  },
  {
   "cell_type": "code",
   "execution_count": null,
   "id": "ceddf4f1",
   "metadata": {},
   "outputs": [],
   "source": []
  },
  {
   "cell_type": "markdown",
   "id": "12e92cbe",
   "metadata": {},
   "source": [
    "### Statistical Operations:\n",
    "Compute the mean, median, and standard deviation of a 2D array 'arr'."
   ]
  },
  {
   "cell_type": "code",
   "execution_count": null,
   "id": "38917ccc",
   "metadata": {},
   "outputs": [],
   "source": []
  },
  {
   "cell_type": "markdown",
   "id": "c0ddc1cd",
   "metadata": {},
   "source": [
    "### Boolean Indexing:\n",
    "Select elements from a 1D array 'arr' that are greater than a certain threshold."
   ]
  },
  {
   "cell_type": "code",
   "execution_count": null,
   "id": "630e34f2",
   "metadata": {},
   "outputs": [],
   "source": []
  },
  {
   "cell_type": "markdown",
   "id": "6e973219",
   "metadata": {},
   "source": [
    "### Concatenation:\n",
    "Concatenate two arrays A and B horizontally."
   ]
  },
  {
   "cell_type": "code",
   "execution_count": null,
   "id": "33d6795a",
   "metadata": {},
   "outputs": [],
   "source": []
  },
  {
   "cell_type": "markdown",
   "id": "08771b75",
   "metadata": {},
   "source": [
    "### Unique Elements:\n",
    "Find the unique elements in a 1D array 'arr'."
   ]
  },
  {
   "cell_type": "code",
   "execution_count": null,
   "id": "95157fa5",
   "metadata": {},
   "outputs": [],
   "source": []
  },
  {
   "cell_type": "markdown",
   "id": "f13e4c6c",
   "metadata": {},
   "source": [
    "### Transpose:\n",
    "Transpose a 2D array 'arr'."
   ]
  },
  {
   "cell_type": "code",
   "execution_count": null,
   "id": "79c714b7",
   "metadata": {},
   "outputs": [],
   "source": []
  },
  {
   "cell_type": "markdown",
   "id": "8f7faef6",
   "metadata": {},
   "source": [
    "### Matrix Inversion:\n",
    "Compute the inverse of a square matrix A."
   ]
  },
  {
   "cell_type": "code",
   "execution_count": null,
   "id": "02ab8add",
   "metadata": {},
   "outputs": [],
   "source": []
  },
  {
   "cell_type": "markdown",
   "id": "236ae7ed",
   "metadata": {},
   "source": [
    "### Cumulative Sum:\n",
    "Compute the cumulative sum of elements along a specified axis in a 2D array 'arr'."
   ]
  },
  {
   "cell_type": "code",
   "execution_count": null,
   "id": "0e9465e1",
   "metadata": {},
   "outputs": [],
   "source": []
  },
  {
   "cell_type": "markdown",
   "id": "4a579098",
   "metadata": {},
   "source": [
    "### Set Operations:\n",
    "Perform union, intersection, and difference of two 1D arrays A and B."
   ]
  },
  {
   "cell_type": "code",
   "execution_count": null,
   "id": "d2d687b2",
   "metadata": {},
   "outputs": [],
   "source": []
  },
  {
   "cell_type": "markdown",
   "id": "1c82f341",
   "metadata": {},
   "source": [
    "### Random Sampling:\n",
    "Generate a random sample of size 10 from a 1D array 'arr'."
   ]
  },
  {
   "cell_type": "code",
   "execution_count": null,
   "id": "92ce474f",
   "metadata": {},
   "outputs": [],
   "source": []
  },
  {
   "cell_type": "code",
   "execution_count": null,
   "id": "303631ed",
   "metadata": {},
   "outputs": [],
   "source": []
  }
 ],
 "metadata": {
  "kernelspec": {
   "display_name": "Python 3 (ipykernel)",
   "language": "python",
   "name": "python3"
  },
  "language_info": {
   "codemirror_mode": {
    "name": "ipython",
    "version": 3
   },
   "file_extension": ".py",
   "mimetype": "text/x-python",
   "name": "python",
   "nbconvert_exporter": "python",
   "pygments_lexer": "ipython3",
   "version": "3.10.10"
  }
 },
 "nbformat": 4,
 "nbformat_minor": 5
}
